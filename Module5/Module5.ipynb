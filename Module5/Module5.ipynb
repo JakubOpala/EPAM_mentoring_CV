{
 "cells": [
  {
   "cell_type": "code",
   "execution_count": 1,
   "metadata": {},
   "outputs": [],
   "source": [
    "import cv2 as cv\n",
    "import numpy as np\n",
    "import matplotlib.pyplot as plt\n",
    "import os\n",
    "import random\n",
    "import time\n",
    "import copy"
   ]
  },
  {
   "cell_type": "markdown",
   "metadata": {},
   "source": [
    "Lets define a function that will help us find the smallest width and height of images in dataset for rescaling."
   ]
  },
  {
   "cell_type": "code",
   "execution_count": 2,
   "metadata": {},
   "outputs": [],
   "source": [
    "def smallest_image_sizes(main_folder):\n",
    "\n",
    "    \"\"\"\n",
    "    Finds the smallest width and height among all images in the specified main folder and its subfolders\n",
    "    and plots histograms of the widths and heights of these images.\n",
    "\n",
    "    Args:\n",
    "        main_folder (str): Path to the main directory containing subfolders with images.\n",
    "\n",
    "    Returns:\n",
    "        tuple: A tuple containing the smallest width and smallest height found among all images.\n",
    "\n",
    "    The function performs the following steps:\n",
    "    1. Iterates through all subfolders in the main folder.\n",
    "    2. Loads each image with '.png', '.jpg', or '.jpeg' extension in each subfolder using OpenCV.\n",
    "    3. Keeps track of the smallest width and height encountered.\n",
    "    4. Stores all widths and heights for plotting.\n",
    "    5. Plots histograms of the widths and heights.\n",
    "    6. Returns the smallest width and height as a tuple.\n",
    "    \"\"\"\n",
    "\n",
    "    widths = []\n",
    "    heights = []\n",
    "\n",
    "    smallest_width, smallest_height = float('inf'), float('inf')\n",
    "\n",
    "    for subfolder in os.listdir(main_folder):\n",
    "        subdir = os.path.join(main_folder, subfolder)\n",
    "\n",
    "        if os.path.isdir(subdir):\n",
    "\n",
    "            for filename in os.listdir(subdir):\n",
    "                file_path = os.path.join(subdir, filename)\n",
    "\n",
    "                if os.path.isfile(file_path) and filename.lower().endswith(('.png', '.jpg', '.jpeg')):\n",
    "                    # Load the image using OpenCV\n",
    "                    image = cv.imread(file_path)\n",
    "\n",
    "                    # Ensure the image was loaded successfully\n",
    "                    if image is not None:\n",
    "                        # Get the dimensions of the image\n",
    "                        height, width, _ = image.shape\n",
    "                        smallest_width = min(smallest_width, width)\n",
    "                        smallest_height = min(smallest_height, height)\n",
    "                        widths.append(width)\n",
    "                        heights.append(height)\n",
    "\n",
    "    fig, axs = plt.subplots(1, 2, figsize=(10, 4))\n",
    "\n",
    "    axs[0].hist(widths, bins=20, color='blue', alpha=0.7)\n",
    "    axs[0].set_title('Histogram of Image Widths')\n",
    "    axs[0].set_xlabel('Width')\n",
    "    axs[0].set_ylabel('Frequency')\n",
    "\n",
    "    # Plot histogram of heights\n",
    "    axs[1].hist(heights, bins=20, color='green', alpha=0.7)\n",
    "    axs[1].set_title('Histogram of Image Heights')\n",
    "    axs[1].set_xlabel('Height')\n",
    "    axs[1].set_ylabel('Frequency')\n",
    "\n",
    "    # Show plots\n",
    "    plt.tight_layout()\n",
    "    plt.show()\n",
    "    \n",
    "    return int(smallest_width), int(smallest_height)"
   ]
  },
  {
   "cell_type": "markdown",
   "metadata": {},
   "source": [
    "Now lets make a function for loading the images and splitting them into training and validation set (test set is already separated)."
   ]
  },
  {
   "cell_type": "code",
   "execution_count": 3,
   "metadata": {},
   "outputs": [],
   "source": [
    "def load_images(main_folder, val_ratio, test_ratio, smallest_width, smallest_height, shuffle = True, random_seed = 42):\n",
    "\n",
    "    \"\"\"\n",
    "    Loads and resizes images from the specified main folder and splits them into training, validation, and test sets.\n",
    "\n",
    "    Args:\n",
    "        main_folder (str): Path to the main directory containing subfolders with images.\n",
    "        val_ratio (float): Proportion of the data to be used for validation (0 <= val_ratio < 1).\n",
    "        test_ratio (float): Proportion of the data to be used for testing (0 <= test_ratio < 1).\n",
    "        smallest_width (int): Width to which all images will be resized.\n",
    "        smallest_height (int): Height to which all images will be resized.\n",
    "        shuffle (bool, optional): Whether to shuffle the images before splitting. Default is True.\n",
    "        random_seed (int, optional): Seed for the random number generator used in shuffling. Default is 42.\n",
    "\n",
    "    Returns:\n",
    "        tuple: Depending on the provided val_ratio and test_ratio, the function returns:\n",
    "            - labels (dict): A dictionary mapping label indices to subfolder names.\n",
    "            - train_images (ndarray): Array of training images.\n",
    "            - val_images (ndarray, optional): Array of validation images.\n",
    "            - test_images (ndarray, optional): Array of test images.\n",
    "            - train_labels (ndarray): Array of training labels.\n",
    "            - val_labels (ndarray, optional): Array of validation labels.\n",
    "            - test_labels (ndarray, optional): Array of test labels.\n",
    "\n",
    "    The function performs the following steps:\n",
    "    1. Asserts that the validation and test ratios are within valid ranges.\n",
    "    2. Initializes arrays for storing images and labels.\n",
    "    3. Iterates through the subfolders in the main folder and processes each image.\n",
    "    4. Resizes each image to the specified dimensions and converts it from BGR to RGB.\n",
    "    5. Splits the images into training, validation, and test sets based on the specified ratios.\n",
    "    6. Returns the images and labels as numpy arrays.\n",
    "    \"\"\"\n",
    "\n",
    "    assert val_ratio < 1  and val_ratio >= 0\n",
    "    assert test_ratio < 1 and test_ratio >= 0\n",
    "    assert val_ratio+test_ratio < 1\n",
    "\n",
    "    random.seed(random_seed)\n",
    "\n",
    "    train_image_array = []\n",
    "    train_labels = []\n",
    "    val_image_array = []\n",
    "    val_labels = []\n",
    "    test_image_array = []\n",
    "    test_labels = []\n",
    "    labels = {}\n",
    "    for label, subfolder in enumerate(os.listdir(main_folder)):\n",
    "        labels[label] = subfolder\n",
    "        subdir = os.path.join(main_folder, subfolder)\n",
    "        subfolder_image_array = []\n",
    "        subfolder_labels = []\n",
    "\n",
    "        if os.path.isdir(subdir):\n",
    "\n",
    "            for filename in os.listdir(subdir):\n",
    "                file_path = os.path.join(subdir, filename)\n",
    "\n",
    "                if os.path.isfile(file_path) and filename.lower().endswith(('.png', '.jpg', '.jpeg')):\n",
    "                    # Load the image using OpenCV\n",
    "                    image = cv.imread(file_path)\n",
    "                    image = cv.resize(image, (smallest_width, smallest_height), interpolation=cv.INTER_AREA)\n",
    "\n",
    "                    # Ensure the image was loaded successfully\n",
    "                    if image is not None:\n",
    "                        # Convert BGR to RGB\n",
    "                        image = cv.cvtColor(image, cv.COLOR_BGR2RGB)\n",
    "                        subfolder_image_array.append(image)\n",
    "                        subfolder_labels.append(label)\n",
    "            \n",
    "            n_train = int((1 - val_ratio) * (1 - test_ratio) * len(subfolder_image_array))\n",
    "            n_val = int(val_ratio * (1 - test_ratio) * len(subfolder_image_array))\n",
    "\n",
    "            combined = list(zip(subfolder_image_array, subfolder_labels))\n",
    "            random.shuffle(combined)\n",
    "            subfolder_image_array, subfolder_labels = zip(*combined)\n",
    "\n",
    "            for i, image in enumerate(subfolder_image_array):\n",
    "                if i < n_train:\n",
    "                    train_image_array.append(image)\n",
    "                    train_labels.append(subfolder_labels[i])\n",
    "                elif n_train < i < n_train + n_val:\n",
    "                    val_image_array.append(image)\n",
    "                    val_labels.append(subfolder_labels[i])\n",
    "                else:\n",
    "                    test_image_array.append(image)\n",
    "                    test_labels.append(subfolder_labels[i])\n",
    "\n",
    "    if test_ratio > 0 and val_ratio > 0:\n",
    "        return labels, np.array(train_image_array), np.array(val_image_array), np.array(test_image_array), np.array(train_labels), np.array(val_labels), np.array(test_labels)\n",
    "    elif val_ratio > 0:\n",
    "        return labels, np.array(train_image_array), np.array(val_image_array), np.array(train_labels), np.array(val_labels)\n",
    "    elif test_ratio > 0:\n",
    "        return labels, np.array(train_image_array), np.array(test_image_array), np.array(train_labels), np.array(test_labels)\n",
    "    else:\n",
    "        return labels, np.array(train_image_array), np.array(train_labels)"
   ]
  },
  {
   "cell_type": "markdown",
   "metadata": {},
   "source": [
    "Function for one-hot encoding the labels of images."
   ]
  },
  {
   "cell_type": "code",
   "execution_count": 4,
   "metadata": {},
   "outputs": [],
   "source": [
    "def one_hot_encode(y, class_dict):\n",
    "    \n",
    "    \"\"\"\n",
    "    Converts a list of class labels into one-hot encoded vectors.\n",
    "\n",
    "    Args:\n",
    "        y (list or ndarray): List or array of class labels to be encoded.\n",
    "        class_dict (dict): Dictionary mapping class labels to their respective class indices.\n",
    "\n",
    "    Returns:\n",
    "        ndarray: A 2D numpy array where each row represents a one-hot encoded vector corresponding to the input class labels.\n",
    "    \"\"\"\n",
    "\n",
    "    one_hot_encoded = []\n",
    "    \n",
    "    for num in y:\n",
    "        one_hot_vector = np.zeros(len(class_dict))\n",
    "        \n",
    "        index = list(class_dict.values()).index(class_dict[num])\n",
    "        \n",
    "        one_hot_vector[index] = 1\n",
    "        one_hot_encoded.append(one_hot_vector)\n",
    "    \n",
    "    one_hot_encoded = np.array(one_hot_encoded)\n",
    "    return one_hot_encoded"
   ]
  },
  {
   "cell_type": "markdown",
   "metadata": {},
   "source": [
    "Okay now lest find the smallest width and height in dataset, load and rescale the images."
   ]
  },
  {
   "cell_type": "code",
   "execution_count": 5,
   "metadata": {},
   "outputs": [
    {
     "data": {
      "image/png": "[encoded data removed]",
      "text/plain": [
       "<Figure size 1000x400 with 2 Axes>"
      ]
     },
     "metadata": {},
     "output_type": "display_data"
    },
    {
     "data": {
      "image/png": "[encoded data removed]",
      "text/plain": [
       "<Figure size 1000x400 with 2 Axes>"
      ]
     },
     "metadata": {},
     "output_type": "display_data"
    },
    {
     "name": "stdout",
     "output_type": "stream",
     "text": [
      "150 72\n"
     ]
    }
   ],
   "source": [
    "train_folder_path = 'Classification_data/train'\n",
    "test_folder_path = 'Classification_data/test'\n",
    "\n",
    "smallest_width1, smallest_height1 = smallest_image_sizes(train_folder_path)\n",
    "smallest_width2, smallest_height2 = smallest_image_sizes(test_folder_path)\n",
    "\n",
    "smallest_width = min(smallest_width1,smallest_width2)\n",
    "smallest_height = min(smallest_height1,smallest_height2)\n",
    "print(smallest_width, smallest_height)"
   ]
  },
  {
   "cell_type": "markdown",
   "metadata": {},
   "source": [
    "From the histograms of widths and heights in training and test set images we can see that they are already the same size."
   ]
  },
  {
   "cell_type": "code",
   "execution_count": 6,
   "metadata": {},
   "outputs": [],
   "source": [
    "labels, X_train, y_train = load_images(train_folder_path, 0, 0, smallest_width, smallest_height)\n",
    "_, X_test, y_test        = load_images(test_folder_path, 0, 0, smallest_width, smallest_height)\n",
    "\n",
    "\n",
    "# Normalizing the pixels values\n",
    "X_train, X_test = X_train / 255.0, X_test / 255.0"
   ]
  },
  {
   "cell_type": "code",
   "execution_count": 7,
   "metadata": {},
   "outputs": [
    {
     "data": {
      "text/plain": [
       "(14034, 72, 150, 3)"
      ]
     },
     "execution_count": 7,
     "metadata": {},
     "output_type": "execute_result"
    }
   ],
   "source": [
    "X_train.shape"
   ]
  },
  {
   "cell_type": "markdown",
   "metadata": {},
   "source": [
    "Lets check if images were loaded correctly."
   ]
  },
  {
   "cell_type": "code",
   "execution_count": 8,
   "metadata": {},
   "outputs": [
    {
     "data": {
      "text/plain": [
       "<matplotlib.image.AxesImage at 0x29bb4debe60>"
      ]
     },
     "execution_count": 8,
     "metadata": {},
     "output_type": "execute_result"
    },
    {
     "data": {
      "image/png": "[encoded data removed]",
      "text/plain": [
       "<Figure size 640x480 with 1 Axes>"
      ]
     },
     "metadata": {},
     "output_type": "display_data"
    }
   ],
   "source": [
    "plt.imshow(X_train[500])"
   ]
  },
  {
   "cell_type": "code",
   "execution_count": 9,
   "metadata": {},
   "outputs": [
    {
     "name": "stdout",
     "output_type": "stream",
     "text": [
      "buildings\n"
     ]
    }
   ],
   "source": [
    "print(labels[y_train[500]])"
   ]
  },
  {
   "cell_type": "markdown",
   "metadata": {},
   "source": [
    "Here we will create a function for extraction of Histogram of Gradients (HOG) from the images. This will allow us to train some classical machine learning model for the classification task."
   ]
  },
  {
   "cell_type": "code",
   "execution_count": 10,
   "metadata": {},
   "outputs": [
    {
     "name": "stdout",
     "output_type": "stream",
     "text": [
      "cuda\n"
     ]
    }
   ],
   "source": [
    "import torch\n",
    "import torch.nn as nn\n",
    "from torch.utils.data import DataLoader, TensorDataset\n",
    "import torch.optim as optim\n",
    "import torch.nn.functional as F\n",
    "\n",
    "device = torch.device(\"cuda\" if torch.cuda.is_available() else \"cpu\")\n",
    "\n",
    "if torch.cuda.is_available():\n",
    "    print('cuda')\n",
    "else:\n",
    "    print('no cuda')"
   ]
  },
  {
   "cell_type": "code",
   "execution_count": 11,
   "metadata": {},
   "outputs": [],
   "source": [
    "labels, X_train, X_val, y_train, y_val = load_images(train_folder_path, 0.2, 0, smallest_width, smallest_height)\n",
    "_, X_test, y_test                     = load_images(test_folder_path, 0, 0, smallest_width, smallest_height)\n",
    "\n",
    "X_train, X_valid, X_test = X_train / 255.0, X_val / 255.0, X_test / 255.0\n",
    "\n",
    "y_train = one_hot_encode(y_train,labels)\n",
    "y_val = one_hot_encode(y_val,labels)\n",
    "y_test  = one_hot_encode(y_test,labels)"
   ]
  },
  {
   "cell_type": "markdown",
   "metadata": {},
   "source": [
    "Lets convert our data to torch tensors and create data loaders. We will also initialize our CNN, optimizer will be Adam and loss function - cross entropy."
   ]
  },
  {
   "cell_type": "code",
   "execution_count": 12,
   "metadata": {},
   "outputs": [],
   "source": [
    "X_train_tensor = torch.tensor(X_train.transpose((0, 3, 1, 2)), dtype=torch.float32)\n",
    "y_train_tensor = torch.tensor(y_train, dtype=torch.float32)\n",
    "X_val_tensor = torch.tensor(X_val.transpose((0, 3, 1, 2)), dtype=torch.float32)\n",
    "y_val_tensor = torch.tensor(y_val, dtype=torch.float32)\n",
    "X_test_tensor = torch.tensor(X_test.transpose((0, 3, 1, 2)), dtype=torch.float32)\n",
    "y_test_tensor = torch.tensor(y_test, dtype=torch.float32)\n",
    "\n",
    "train_dataset = TensorDataset(X_train_tensor, y_train_tensor)\n",
    "train_loader = DataLoader(train_dataset, batch_size=64, shuffle=True)\n",
    "val_dataset = TensorDataset(X_val_tensor, y_val_tensor)\n",
    "val_loader = DataLoader(val_dataset, batch_size=64, shuffle=False)"
   ]
  },
  {
   "cell_type": "code",
   "execution_count": 13,
   "metadata": {},
   "outputs": [
    {
     "data": {
      "text/plain": [
       "torch.Size([11224, 3, 72, 150])"
      ]
     },
     "execution_count": 13,
     "metadata": {},
     "output_type": "execute_result"
    }
   ],
   "source": [
    "X_train_tensor.shape"
   ]
  },
  {
   "cell_type": "markdown",
   "metadata": {},
   "source": [
    "## Finetuned CNN"
   ]
  },
  {
   "cell_type": "markdown",
   "metadata": {},
   "source": [
    "We will use SqueezeNet - it is lightweight network with relatively small number of parameters and its flexible in case of input size."
   ]
  },
  {
   "cell_type": "code",
   "execution_count": 15,
   "metadata": {},
   "outputs": [],
   "source": [
    "import torchvision.models as models\n",
    "\n",
    "squeeze = models.squeezenet1_0(weights='SqueezeNet1_0_Weights.DEFAULT')#.to(device)"
   ]
  },
  {
   "cell_type": "code",
   "execution_count": 15,
   "metadata": {},
   "outputs": [],
   "source": [
    "num_classes = len(labels)  \n",
    "\n",
    "# Modify final layer\n",
    "#num_features = squeeze.fc.in_features\n",
    "#squeeze.fc = nn.Linear(num_features, num_classes)"
   ]
  },
  {
   "cell_type": "markdown",
   "metadata": {},
   "source": [
    "Lets take a look at its architecture."
   ]
  },
  {
   "cell_type": "code",
   "execution_count": 16,
   "metadata": {},
   "outputs": [
    {
     "data": {
      "text/plain": [
       "SqueezeNet(\n",
       "  (features): Sequential(\n",
       "    (0): Conv2d(3, 96, kernel_size=(7, 7), stride=(2, 2))\n",
       "    (1): ReLU(inplace=True)\n",
       "    (2): MaxPool2d(kernel_size=3, stride=2, padding=0, dilation=1, ceil_mode=True)\n",
       "    (3): Fire(\n",
       "      (squeeze): Conv2d(96, 16, kernel_size=(1, 1), stride=(1, 1))\n",
       "      (squeeze_activation): ReLU(inplace=True)\n",
       "      (expand1x1): Conv2d(16, 64, kernel_size=(1, 1), stride=(1, 1))\n",
       "      (expand1x1_activation): ReLU(inplace=True)\n",
       "      (expand3x3): Conv2d(16, 64, kernel_size=(3, 3), stride=(1, 1), padding=(1, 1))\n",
       "      (expand3x3_activation): ReLU(inplace=True)\n",
       "    )\n",
       "    (4): Fire(\n",
       "      (squeeze): Conv2d(128, 16, kernel_size=(1, 1), stride=(1, 1))\n",
       "      (squeeze_activation): ReLU(inplace=True)\n",
       "      (expand1x1): Conv2d(16, 64, kernel_size=(1, 1), stride=(1, 1))\n",
       "      (expand1x1_activation): ReLU(inplace=True)\n",
       "      (expand3x3): Conv2d(16, 64, kernel_size=(3, 3), stride=(1, 1), padding=(1, 1))\n",
       "      (expand3x3_activation): ReLU(inplace=True)\n",
       "    )\n",
       "    (5): Fire(\n",
       "      (squeeze): Conv2d(128, 32, kernel_size=(1, 1), stride=(1, 1))\n",
       "      (squeeze_activation): ReLU(inplace=True)\n",
       "      (expand1x1): Conv2d(32, 128, kernel_size=(1, 1), stride=(1, 1))\n",
       "      (expand1x1_activation): ReLU(inplace=True)\n",
       "      (expand3x3): Conv2d(32, 128, kernel_size=(3, 3), stride=(1, 1), padding=(1, 1))\n",
       "      (expand3x3_activation): ReLU(inplace=True)\n",
       "    )\n",
       "    (6): MaxPool2d(kernel_size=3, stride=2, padding=0, dilation=1, ceil_mode=True)\n",
       "    (7): Fire(\n",
       "      (squeeze): Conv2d(256, 32, kernel_size=(1, 1), stride=(1, 1))\n",
       "      (squeeze_activation): ReLU(inplace=True)\n",
       "      (expand1x1): Conv2d(32, 128, kernel_size=(1, 1), stride=(1, 1))\n",
       "      (expand1x1_activation): ReLU(inplace=True)\n",
       "      (expand3x3): Conv2d(32, 128, kernel_size=(3, 3), stride=(1, 1), padding=(1, 1))\n",
       "      (expand3x3_activation): ReLU(inplace=True)\n",
       "    )\n",
       "    (8): Fire(\n",
       "      (squeeze): Conv2d(256, 48, kernel_size=(1, 1), stride=(1, 1))\n",
       "      (squeeze_activation): ReLU(inplace=True)\n",
       "      (expand1x1): Conv2d(48, 192, kernel_size=(1, 1), stride=(1, 1))\n",
       "      (expand1x1_activation): ReLU(inplace=True)\n",
       "      (expand3x3): Conv2d(48, 192, kernel_size=(3, 3), stride=(1, 1), padding=(1, 1))\n",
       "      (expand3x3_activation): ReLU(inplace=True)\n",
       "    )\n",
       "    (9): Fire(\n",
       "      (squeeze): Conv2d(384, 48, kernel_size=(1, 1), stride=(1, 1))\n",
       "      (squeeze_activation): ReLU(inplace=True)\n",
       "      (expand1x1): Conv2d(48, 192, kernel_size=(1, 1), stride=(1, 1))\n",
       "      (expand1x1_activation): ReLU(inplace=True)\n",
       "      (expand3x3): Conv2d(48, 192, kernel_size=(3, 3), stride=(1, 1), padding=(1, 1))\n",
       "      (expand3x3_activation): ReLU(inplace=True)\n",
       "    )\n",
       "    (10): Fire(\n",
       "      (squeeze): Conv2d(384, 64, kernel_size=(1, 1), stride=(1, 1))\n",
       "      (squeeze_activation): ReLU(inplace=True)\n",
       "      (expand1x1): Conv2d(64, 256, kernel_size=(1, 1), stride=(1, 1))\n",
       "      (expand1x1_activation): ReLU(inplace=True)\n",
       "      (expand3x3): Conv2d(64, 256, kernel_size=(3, 3), stride=(1, 1), padding=(1, 1))\n",
       "      (expand3x3_activation): ReLU(inplace=True)\n",
       "    )\n",
       "    (11): MaxPool2d(kernel_size=3, stride=2, padding=0, dilation=1, ceil_mode=True)\n",
       "    (12): Fire(\n",
       "      (squeeze): Conv2d(512, 64, kernel_size=(1, 1), stride=(1, 1))\n",
       "      (squeeze_activation): ReLU(inplace=True)\n",
       "      (expand1x1): Conv2d(64, 256, kernel_size=(1, 1), stride=(1, 1))\n",
       "      (expand1x1_activation): ReLU(inplace=True)\n",
       "      (expand3x3): Conv2d(64, 256, kernel_size=(3, 3), stride=(1, 1), padding=(1, 1))\n",
       "      (expand3x3_activation): ReLU(inplace=True)\n",
       "    )\n",
       "  )\n",
       "  (classifier): Sequential(\n",
       "    (0): Dropout(p=0.5, inplace=False)\n",
       "    (1): Conv2d(512, 1000, kernel_size=(1, 1), stride=(1, 1))\n",
       "    (2): ReLU(inplace=True)\n",
       "    (3): AdaptiveAvgPool2d(output_size=(1, 1))\n",
       "  )\n",
       ")"
      ]
     },
     "execution_count": 16,
     "metadata": {},
     "output_type": "execute_result"
    }
   ],
   "source": [
    "squeeze.eval()"
   ]
  },
  {
   "cell_type": "markdown",
   "metadata": {},
   "source": [
    "We choose cross entropy as our loss and Stochastic Gradient Descent as our optimizer."
   ]
  },
  {
   "cell_type": "code",
   "execution_count": 17,
   "metadata": {},
   "outputs": [],
   "source": [
    "criterion = nn.CrossEntropyLoss()\n",
    "optimizer = optim.SGD(squeeze.parameters(), lr=0.001, momentum=0.9)"
   ]
  },
  {
   "cell_type": "markdown",
   "metadata": {},
   "source": [
    "Now lets train the model."
   ]
  },
  {
   "cell_type": "code",
   "execution_count": 20,
   "metadata": {},
   "outputs": [
    {
     "name": "stdout",
     "output_type": "stream",
     "text": [
      "Epoch 1/20, Loss: 0.7758, Validation Accuracy: 47.78%, Time: 62.13s\n",
      "Epoch 2/20, Loss: 0.5085, Validation Accuracy: 29.09%, Time: 61.73s\n",
      "Epoch 3/20, Loss: 0.4284, Validation Accuracy: 44.89%, Time: 61.49s\n",
      "Epoch 4/20, Loss: 0.3771, Validation Accuracy: 50.21%, Time: 61.60s\n",
      "Epoch 5/20, Loss: 0.3489, Validation Accuracy: 43.71%, Time: 61.53s\n",
      "Epoch 6/20, Loss: 0.3214, Validation Accuracy: 43.10%, Time: 61.61s\n",
      "Epoch 7/20, Loss: 0.2984, Validation Accuracy: 48.68%, Time: 61.56s\n",
      "Epoch 8/20, Loss: 0.3008, Validation Accuracy: 49.82%, Time: 61.52s\n",
      "Epoch 9/20, Loss: 0.2602, Validation Accuracy: 46.46%, Time: 61.67s\n",
      "Epoch 10/20, Loss: 0.2585, Validation Accuracy: 58.22%, Time: 62.87s\n",
      "Epoch 11/20, Loss: 0.2426, Validation Accuracy: 51.89%, Time: 924.56s\n",
      "Epoch 12/20, Loss: 0.2252, Validation Accuracy: 49.46%, Time: 93.14s\n",
      "Epoch 13/20, Loss: 0.2091, Validation Accuracy: 42.82%, Time: 91.17s\n",
      "Epoch 14/20, Loss: 0.2027, Validation Accuracy: 47.03%, Time: 91.21s\n",
      "Epoch 15/20, Loss: 0.1837, Validation Accuracy: 47.71%, Time: 90.87s\n",
      "Epoch 16/20, Loss: 0.1837, Validation Accuracy: 43.10%, Time: 92.27s\n",
      "Epoch 17/20, Loss: 0.1703, Validation Accuracy: 53.11%, Time: 76.04s\n",
      "Epoch 18/20, Loss: 0.1684, Validation Accuracy: 43.71%, Time: 61.56s\n",
      "Epoch 19/20, Loss: 0.1490, Validation Accuracy: 47.11%, Time: 61.32s\n",
      "Epoch 20/20, Loss: 0.1419, Validation Accuracy: 59.47%, Time: 61.24s\n"
     ]
    }
   ],
   "source": [
    "train_res_history = []\n",
    "val_res_history = []\n",
    "\n",
    "best_val_accuracy = 0.0  \n",
    "best_model_params = None  \n",
    "\n",
    "num_epochs = 20\n",
    "\n",
    "for epoch in range(num_epochs):\n",
    "    start_time = time.time()\n",
    "    \n",
    "    squeeze.train()\n",
    "    total_loss = 0.0\n",
    "    \n",
    "    # Training loop\n",
    "    for inputs, one_hot_labels in train_loader:\n",
    "        labels = torch.argmax(one_hot_labels, dim=1)  \n",
    "        optimizer.zero_grad()\n",
    "        \n",
    "        outputs = squeeze(inputs)\n",
    "        \n",
    "        loss = criterion(outputs, labels)\n",
    "        loss.backward()\n",
    "        optimizer.step()\n",
    "        \n",
    "        total_loss += loss.item() * inputs.size(0)\n",
    "    \n",
    "    # Calculate average training loss\n",
    "    avg_train_loss = total_loss / len(train_loader.dataset)\n",
    "    train_res_history.append(avg_train_loss)\n",
    "\n",
    "    # Validation loop\n",
    "    squeeze.eval()\n",
    "    total_correct = 0\n",
    "    total_val_loss = 0.0\n",
    "\n",
    "    with torch.no_grad():\n",
    "        for inputs, one_hot_labels in val_loader:\n",
    "            labels = torch.argmax(one_hot_labels, dim=1)  # Convert one-hot encoded labels to class indices\n",
    "            \n",
    "            outputs = squeeze(inputs)\n",
    "            _, predicted = torch.max(outputs, 1)\n",
    "            \n",
    "            total_correct += (predicted == labels).sum().item()\n",
    "\n",
    "            val_loss = criterion(outputs, labels)\n",
    "            total_val_loss += val_loss.item() * inputs.size(0)\n",
    "    \n",
    "    # Calculate validation accuracy\n",
    "    val_accuracy = total_correct / len(val_loader.dataset)\n",
    "    val_res_history.append(val_accuracy)\n",
    "\n",
    "    avg_val_loss = total_val_loss / len(val_loader.dataset)\n",
    "    \n",
    "    # Save best model parameters\n",
    "    if val_accuracy > best_val_accuracy:\n",
    "        best_val_accuracy = val_accuracy\n",
    "        best_res_params = squeeze.state_dict()\n",
    "        torch.save(best_res_params, 'best_model.pth')\n",
    "\n",
    "    end_time = time.time()\n",
    "    epoch_time = end_time - start_time\n",
    "    \n",
    "    print(f\"Epoch {epoch+1}/{num_epochs}, Loss: {avg_train_loss:.4f}, Validation Accuracy: {val_accuracy*100:.2f}%, Time: {epoch_time:.2f}s\")"
   ]
  },
  {
   "cell_type": "code",
   "execution_count": null,
   "metadata": {},
   "outputs": [],
   "source": [
    "state_dict = torch.load('best_model.pth')\n",
    "if squeeze is None:   \n",
    "    squeeze = models.squeezenet1_0(weights='SqueezeNet1_0_Weights.DEFAULT')  # .to(device) if using GPU\n",
    "squeeze.load_state_dict(state_dict)\n",
    "\n",
    "squeeze.to(torch.device('cpu'))"
   ]
  },
  {
   "cell_type": "markdown",
   "metadata": {},
   "source": [
    "Time for testing:"
   ]
  },
  {
   "cell_type": "code",
   "execution_count": 17,
   "metadata": {},
   "outputs": [
    {
     "name": "stdout",
     "output_type": "stream",
     "text": [
      "Test Accuracy: 85.67%\n",
      "Total inference time: 6.88513s, Average single inference time: 0.14304s\n"
     ]
    }
   ],
   "source": [
    "test_dataset = TensorDataset(X_test_tensor, y_test_tensor)\n",
    "test_loader = DataLoader(test_dataset, batch_size=64, shuffle=False)\n",
    "\n",
    "squeeze.eval()\n",
    "total_correct = 0\n",
    "times = []\n",
    "\n",
    "with torch.no_grad():\n",
    "    start_time = time.time()\n",
    "\n",
    "    for batch in test_loader:\n",
    "\n",
    "        inputs, one_hot_labels = batch  # Assuming labels are one-hot encoded\n",
    "        labels = torch.argmax(one_hot_labels, dim=1)  # Convert one-hot encoded labels to class indices\n",
    "        \n",
    "        start_batch_time = time.time()\n",
    "        outputs = squeeze(inputs)\n",
    "        end_batch_time = time.time()\n",
    "        times.append(end_batch_time-start_batch_time)\n",
    "        _, predicted = torch.max(outputs, 1)\n",
    "        \n",
    "        total_correct += (predicted == labels).sum().item()\n",
    "\n",
    "end_time = time.time()\n",
    "test_accuracy = total_correct / len(test_loader.dataset)\n",
    "print(f\"Test Accuracy: {test_accuracy*100:.2f}%\")\n",
    "print(f\"Total inference time: {(end_time-start_time):.5f}s, Average single inference time: {np.mean(times):.5f}s\")"
   ]
  },
  {
   "cell_type": "markdown",
   "metadata": {},
   "source": [
    "Lets make a copy of our model."
   ]
  },
  {
   "cell_type": "code",
   "execution_count": 18,
   "metadata": {},
   "outputs": [],
   "source": [
    "quant_squeeze = copy.deepcopy(squeeze.eval())"
   ]
  },
  {
   "cell_type": "markdown",
   "metadata": {},
   "source": [
    "Now we can quantize it."
   ]
  },
  {
   "cell_type": "code",
   "execution_count": null,
   "metadata": {},
   "outputs": [],
   "source": [
    "quant_squeeze.qconfig=torch.quantization.get_default_qat_qconfig('fbgemm')\n",
    "\n",
    "# insert observers\n",
    "torch.quantization.prepare(quant_squeeze, inplace=True)#, inplace=True)\n",
    "\n",
    "# Calibrate using a calibration dataset\n",
    "calibration_dataset = TensorDataset(X_val_tensor, y_val_tensor)\n",
    "calibration_loader = DataLoader(test_dataset, batch_size=32, shuffle=False)\n",
    "\n",
    "with torch.no_grad():\n",
    "    for inputs, _ in calibration_loader:\n",
    "        quant_squeeze(inputs)\n",
    "\n",
    "# convert to quantized version\n",
    "torch.quantization.convert(quant_squeeze, inplace=True)\n",
    "quant_squeeze.to('cpu')"
   ]
  },
  {
   "cell_type": "markdown",
   "metadata": {},
   "source": [
    "Now we can test our quantized model in the same way:"
   ]
  },
  {
   "cell_type": "code",
   "execution_count": 21,
   "metadata": {},
   "outputs": [
    {
     "name": "stdout",
     "output_type": "stream",
     "text": [
      "Test Accuracy: 85.63%\n",
      "Total inference time: 3.39230s, Average single inference time: 0.06797s\n"
     ]
    }
   ],
   "source": [
    "quant_squeeze.eval()\n",
    "total_correct = 0\n",
    "times = []\n",
    "\n",
    "with torch.no_grad():\n",
    "    start_time = time.time()\n",
    "\n",
    "    for batch in test_loader:\n",
    "\n",
    "        inputs, one_hot_labels = batch  # Assuming labels are one-hot encoded\n",
    "\n",
    "        inputs_q = torch.quantize_per_tensor(inputs, scale=1.0/255, zero_point=0, dtype=torch.quint8)\n",
    "        labels = torch.argmax(one_hot_labels, dim=1).to(dtype=torch.int8)#dtype=torch.int64)  \n",
    "\n",
    "        #labels = torch.argmax(one_hot_labels, dim=1).to(dtype = torch.qint8)  # Convert one-hot encoded labels to class indices\n",
    "        \n",
    "        start_batch_time = time.time()\n",
    "        outputs = quant_squeeze(inputs_q)\n",
    "        end_batch_time = time.time()\n",
    "        times.append(end_batch_time-start_batch_time)\n",
    "        _, predicted = torch.max(outputs, 1)\n",
    "        \n",
    "        total_correct += (predicted == labels).sum().item()\n",
    "\n",
    "end_time = time.time()\n",
    "test_accuracy = total_correct / len(test_loader.dataset)\n",
    "print(f\"Test Accuracy: {test_accuracy*100:.2f}%\")\n",
    "print(f\"Total inference time: {(end_time-start_time):.5f}s, Average single inference time: {np.mean(times):.5f}s\")"
   ]
  },
  {
   "cell_type": "markdown",
   "metadata": {},
   "source": [
    "Standard model:\n",
    "<br>\n",
    "<br>\n",
    "Test Accuracy: 85.67%\n",
    "Total inference time: 6.88513s, Average single inference time: 0.14304\n",
    "<br>\n",
    "<br>\n",
    "Quantized model:\n",
    "<br>\n",
    "<br>\n",
    "Test Accuracy: 85.63%\n",
    "Total inference time: 3.39230s, Average single inference time: 0.06797s"
   ]
  },
  {
   "cell_type": "markdown",
   "metadata": {},
   "source": [
    "We can see that, while keeping almost identical accuracy on the test set, quantized model managed to have total inference time over 2 times shorter, same with an average prediction on a single batch. It is a big improvement that didn't worsen performance of our model."
   ]
  }
 ],
 "metadata": {
  "kernelspec": {
   "display_name": "ml",
   "language": "python",
   "name": "python3"
  },
  "language_info": {
   "codemirror_mode": {
    "name": "ipython",
    "version": 3
   },
   "file_extension": ".py",
   "mimetype": "text/x-python",
   "name": "python",
   "nbconvert_exporter": "python",
   "pygments_lexer": "ipython3",
   "version": "3.12.3"
  }
 },
 "nbformat": 4,
 "nbformat_minor": 2
}
