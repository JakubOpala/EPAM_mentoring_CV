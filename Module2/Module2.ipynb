{
 "cells": [
  {
   "cell_type": "code",
   "execution_count": 3,
   "metadata": {},
   "outputs": [],
   "source": [
    "import cv2 as cv\n",
    "import numpy as np\n",
    "import matplotlib.pyplot as plt\n",
    "import os\n",
    "import random\n",
    "import time"
   ]
  },
  {
   "cell_type": "markdown",
   "metadata": {},
   "source": [
    "Lets define a function that will help us find the smallest width and height of images in dataset for rescaling."
   ]
  },
  {
   "cell_type": "code",
   "execution_count": 4,
   "metadata": {},
   "outputs": [],
   "source": [
    "def smallest_image_sizes(main_folder):\n",
    "\n",
    "    widths = []\n",
    "    heights = []\n",
    "\n",
    "    smallest_width, smallest_height = float('inf'), float('inf')\n",
    "\n",
    "    for subfolder in os.listdir(main_folder):\n",
    "        subdir = os.path.join(main_folder, subfolder)\n",
    "\n",
    "        if os.path.isdir(subdir):\n",
    "\n",
    "            for filename in os.listdir(subdir):\n",
    "                file_path = os.path.join(subdir, filename)\n",
    "\n",
    "                if os.path.isfile(file_path) and filename.lower().endswith(('.png', '.jpg', '.jpeg')):\n",
    "                    # Load the image using OpenCV\n",
    "                    image = cv.imread(file_path)\n",
    "\n",
    "                    # Ensure the image was loaded successfully\n",
    "                    if image is not None:\n",
    "                        # Get the dimensions of the image\n",
    "                        height, width, _ = image.shape\n",
    "                        smallest_width = min(smallest_width, width)\n",
    "                        smallest_height = min(smallest_height, height)\n",
    "                        widths.append(width)\n",
    "                        heights.append(height)\n",
    "\n",
    "    fig, axs = plt.subplots(1, 2, figsize=(10, 4))\n",
    "\n",
    "    axs[0].hist(widths, bins=20, color='blue', alpha=0.7)\n",
    "    axs[0].set_title('Histogram of Image Widths')\n",
    "    axs[0].set_xlabel('Width')\n",
    "    axs[0].set_ylabel('Frequency')\n",
    "\n",
    "    # Plot histogram of heights\n",
    "    axs[1].hist(heights, bins=20, color='green', alpha=0.7)\n",
    "    axs[1].set_title('Histogram of Image Heights')\n",
    "    axs[1].set_xlabel('Height')\n",
    "    axs[1].set_ylabel('Frequency')\n",
    "\n",
    "    # Show plots\n",
    "    plt.tight_layout()\n",
    "    plt.show()\n",
    "    \n",
    "    return int(smallest_width), int(smallest_height)"
   ]
  },
  {
   "cell_type": "markdown",
   "metadata": {},
   "source": [
    "Now lets make a function for loading the images and splitting them into training and validation set (test set is already separated)."
   ]
  },
  {
   "cell_type": "code",
   "execution_count": 5,
   "metadata": {},
   "outputs": [],
   "source": [
    "def load_images(main_folder, val_ratio, test_ratio, smallest_width, smallest_height, shuffle = True, random_seed = 42):\n",
    "\n",
    "    assert val_ratio < 1  and val_ratio >= 0\n",
    "    assert test_ratio < 1 and test_ratio >= 0\n",
    "    assert val_ratio+test_ratio < 1\n",
    "\n",
    "    random.seed(random_seed)\n",
    "\n",
    "    train_image_array = []\n",
    "    train_labels = []\n",
    "    val_image_array = []\n",
    "    val_labels = []\n",
    "    test_image_array = []\n",
    "    test_labels = []\n",
    "    labels = {}\n",
    "    for label, subfolder in enumerate(os.listdir(main_folder)):\n",
    "        labels[label] = subfolder\n",
    "        subdir = os.path.join(main_folder, subfolder)\n",
    "        subfolder_image_array = []\n",
    "        subfolder_labels = []\n",
    "\n",
    "        if os.path.isdir(subdir):\n",
    "\n",
    "            for filename in os.listdir(subdir):\n",
    "                file_path = os.path.join(subdir, filename)\n",
    "\n",
    "                if os.path.isfile(file_path) and filename.lower().endswith(('.png', '.jpg', '.jpeg')):\n",
    "                    # Load the image using OpenCV\n",
    "                    image = cv.imread(file_path)\n",
    "                    image = cv.resize(image, (smallest_width, smallest_height), interpolation=cv.INTER_AREA)\n",
    "\n",
    "                    # Ensure the image was loaded successfully\n",
    "                    if image is not None:\n",
    "                        # Convert BGR to RGB\n",
    "                        image = cv.cvtColor(image, cv.COLOR_BGR2RGB)\n",
    "                        subfolder_image_array.append(image)\n",
    "                        subfolder_labels.append(label)\n",
    "            \n",
    "            n_train = int((1 - val_ratio) * (1 - test_ratio) * len(subfolder_image_array))\n",
    "            n_val = int(val_ratio * (1 - test_ratio) * len(subfolder_image_array))\n",
    "\n",
    "            combined = list(zip(subfolder_image_array, subfolder_labels))\n",
    "            random.shuffle(combined)\n",
    "            subfolder_image_array, subfolder_labels = zip(*combined)\n",
    "\n",
    "            for i, image in enumerate(subfolder_image_array):\n",
    "                if i < n_train:\n",
    "                    train_image_array.append(image)\n",
    "                    train_labels.append(subfolder_labels[i])\n",
    "                elif n_train < i < n_train + n_val:\n",
    "                    val_image_array.append(image)\n",
    "                    val_labels.append(subfolder_labels[i])\n",
    "                else:\n",
    "                    test_image_array.append(image)\n",
    "                    test_labels.append(subfolder_labels[i])\n",
    "\n",
    "    if test_ratio > 0 and val_ratio > 0:\n",
    "        return labels, np.array(train_image_array), np.array(val_image_array), np.array(test_image_array), np.array(train_labels), np.array(val_labels), np.array(test_labels)\n",
    "    elif val_ratio > 0:\n",
    "        return labels, np.array(train_image_array), np.array(val_image_array), np.array(train_labels), np.array(val_labels)\n",
    "    elif test_ratio > 0:\n",
    "        return labels, np.array(train_image_array), np.array(test_image_array), np.array(train_labels), np.array(test_labels)\n",
    "    else:\n",
    "        return labels, np.array(train_image_array), np.array(train_labels)"
   ]
  },
  {
   "cell_type": "markdown",
   "metadata": {},
   "source": [
    "Function for one-hot encoding the labels of images."
   ]
  },
  {
   "cell_type": "code",
   "execution_count": 6,
   "metadata": {},
   "outputs": [],
   "source": [
    "def one_hot_encode(y, class_dict):\n",
    "    \n",
    "    one_hot_encoded = []\n",
    "    \n",
    "    for num in y:\n",
    "        one_hot_vector = np.zeros(len(class_dict))\n",
    "        \n",
    "        index = list(class_dict.values()).index(class_dict[num])\n",
    "        \n",
    "        one_hot_vector[index] = 1\n",
    "        one_hot_encoded.append(one_hot_vector)\n",
    "    \n",
    "    one_hot_encoded = np.array(one_hot_encoded)\n",
    "    return one_hot_encoded"
   ]
  },
  {
   "cell_type": "markdown",
   "metadata": {},
   "source": [
    "Okay now lest find the smallest width and height in dataset, load and rescale the images."
   ]
  },
  {
   "cell_type": "code",
   "execution_count": 7,
   "metadata": {},
   "outputs": [
    {
     "data": {
      "image/png": "[encoded data removed]",
      "text/plain": [
       "<Figure size 1000x400 with 2 Axes>"
      ]
     },
     "metadata": {},
     "output_type": "display_data"
    },
    {
     "data": {
      "image/png": "[encoded data removed]",
      "text/plain": [
       "<Figure size 1000x400 with 2 Axes>"
      ]
     },
     "metadata": {},
     "output_type": "display_data"
    },
    {
     "name": "stdout",
     "output_type": "stream",
     "text": [
      "150 72\n"
     ]
    }
   ],
   "source": [
    "train_folder_path = 'Classification_data/train'\n",
    "test_folder_path = 'Classification_data/test'\n",
    "\n",
    "smallest_width1, smallest_height1 = smallest_image_sizes(train_folder_path)\n",
    "smallest_width2, smallest_height2 = smallest_image_sizes(test_folder_path)\n",
    "\n",
    "smallest_width = min(smallest_width1,smallest_width2)\n",
    "smallest_height = min(smallest_height1,smallest_height2)\n",
    "print(smallest_width, smallest_height)"
   ]
  },
  {
   "cell_type": "markdown",
   "metadata": {},
   "source": [
    "From the histograms of widths and heights in training and test set images we can see that they are already the same size."
   ]
  },
  {
   "cell_type": "code",
   "execution_count": 8,
   "metadata": {},
   "outputs": [],
   "source": [
    "labels, X_train, y_train = load_images(train_folder_path, 0, 0, smallest_width, smallest_height)\n",
    "_, X_test, y_test        = load_images(test_folder_path, 0, 0, smallest_width, smallest_height)\n",
    "\n",
    "\n",
    "# Normalizing the pixels values\n",
    "X_train, X_test = X_train / 255.0, X_test / 255.0"
   ]
  },
  {
   "cell_type": "code",
   "execution_count": 7,
   "metadata": {},
   "outputs": [
    {
     "data": {
      "text/plain": [
       "(14034, 72, 150, 3)"
      ]
     },
     "execution_count": 7,
     "metadata": {},
     "output_type": "execute_result"
    }
   ],
   "source": [
    "X_train.shape"
   ]
  },
  {
   "cell_type": "markdown",
   "metadata": {},
   "source": [
    "Lets check if images were loaded correctly."
   ]
  },
  {
   "cell_type": "code",
   "execution_count": 8,
   "metadata": {},
   "outputs": [
    {
     "data": {
      "text/plain": [
       "<matplotlib.image.AxesImage at 0x2756ebf0390>"
      ]
     },
     "execution_count": 8,
     "metadata": {},
     "output_type": "execute_result"
    },
    {
     "data": {
      "image/png": "[encoded data removed]",
      "text/plain": [
       "<Figure size 640x480 with 1 Axes>"
      ]
     },
     "metadata": {},
     "output_type": "display_data"
    }
   ],
   "source": [
    "plt.imshow(X_train[500])"
   ]
  },
  {
   "cell_type": "code",
   "execution_count": 9,
   "metadata": {},
   "outputs": [
    {
     "name": "stdout",
     "output_type": "stream",
     "text": [
      "buildings\n"
     ]
    }
   ],
   "source": [
    "print(labels[y_train[500]])"
   ]
  },
  {
   "cell_type": "markdown",
   "metadata": {},
   "source": [
    "Here we will create a function for extraction of Histogram of Gradients (HOG) from the images. This will allow us to train some classical machine learning model for the classification task."
   ]
  },
  {
   "cell_type": "code",
   "execution_count": 26,
   "metadata": {},
   "outputs": [],
   "source": [
    "def extract_hog_features(images, resize_dim=(64, 128), win_size=(32, 32), block_size=(16, 16), block_stride=(16, 16), cell_size=(16, 16), nbins=9):\n",
    "\n",
    "    hog = cv.HOGDescriptor(win_size, block_size, block_stride, cell_size, nbins)\n",
    "    \n",
    "    hog_features = []\n",
    "    \n",
    "    for image in images:\n",
    "\n",
    "        image = cv.convertScaleAbs(image)\n",
    "        gray_image = cv.cvtColor(image, cv.COLOR_RGB2GRAY)\n",
    "        resized_image = cv.resize(gray_image, resize_dim)\n",
    "        \n",
    "        features = hog.compute(resized_image)\n",
    "        hog_features.append(features.flatten())\n",
    "    \n",
    "    hog_features = np.array(hog_features)\n",
    "    \n",
    "    return hog_features\n"
   ]
  },
  {
   "cell_type": "markdown",
   "metadata": {},
   "source": [
    "Another feature extractor. This time we are obtaining ORB descriptors (corners and edges information)."
   ]
  },
  {
   "cell_type": "code",
   "execution_count": 11,
   "metadata": {},
   "outputs": [
    {
     "name": "stdout",
     "output_type": "stream",
     "text": [
      "(14034, 256)\n"
     ]
    }
   ],
   "source": [
    "def extract_orb_features(images):\n",
    "    orb = cv.ORB_create()\n",
    "    features = []\n",
    "    \n",
    "    for image in images:\n",
    "\n",
    "        image = cv.convertScaleAbs(image)\n",
    "        gray_image = cv.cvtColor(image, cv.COLOR_RGB2GRAY)\n",
    "\n",
    "        keypoints, descriptors = orb.detectAndCompute(gray_image, None)\n",
    "        \n",
    "        # Flatten the descriptors and append to features list\n",
    "        if descriptors is not None:\n",
    "            features.append(descriptors.flatten())\n",
    "        else:\n",
    "            features.append(np.zeros(256))  # Placeholder for images where no keypoints are found\n",
    "    \n",
    "    return np.array(features)\n",
    "\n",
    "X_train_SVM = extract_orb_features(X_train).astype('float32')\n",
    "X_test_SVM = extract_orb_features(X_test).astype('float32')\n",
    "\n",
    "print(X_train_SVM.shape)  "
   ]
  },
  {
   "cell_type": "code",
   "execution_count": 12,
   "metadata": {},
   "outputs": [
    {
     "data": {
      "text/plain": [
       "dtype('float32')"
      ]
     },
     "execution_count": 12,
     "metadata": {},
     "output_type": "execute_result"
    }
   ],
   "source": [
    "X_train_SVM.dtype"
   ]
  },
  {
   "cell_type": "code",
   "execution_count": 13,
   "metadata": {},
   "outputs": [],
   "source": [
    "from sklearn import svm\n",
    "from sklearn.metrics import accuracy_score\n",
    "from sklearn.model_selection import GridSearchCV\n",
    "from sklearn.preprocessing import StandardScaler\n",
    "from sklearn.pipeline import make_pipeline\n",
    "from sklearn.neighbors import KNeighborsClassifier"
   ]
  },
  {
   "cell_type": "markdown",
   "metadata": {},
   "source": [
    "A code for training SVM Classifier with cross-validation for tuning hyperparameters."
   ]
  },
  {
   "cell_type": "code",
   "execution_count": 27,
   "metadata": {},
   "outputs": [
    {
     "name": "stdout",
     "output_type": "stream",
     "text": [
      "(14034, 90)\n"
     ]
    }
   ],
   "source": [
    "X_train_SVM = extract_hog_features(X_train)\n",
    "X_test_SVM = extract_hog_features(X_test)\n",
    "\n",
    "print(X_train_SVM.shape)  "
   ]
  },
  {
   "cell_type": "code",
   "execution_count": 15,
   "metadata": {},
   "outputs": [
    {
     "name": "stdout",
     "output_type": "stream",
     "text": [
      "Test Accuracy: 57.77%\n"
     ]
    }
   ],
   "source": [
    "scaler = StandardScaler()\n",
    "X_train_scaled = scaler.fit_transform(X_train_SVM)\n",
    "X_test_scaled = scaler.transform(X_test_SVM)\n",
    "\n",
    "#clf = svm.LinearSVC()#\n",
    "clf = svm.SVC(kernel='rbf', C=1, probability=True)\n",
    "'''\n",
    "param_grid = {'C': [0.1, 1, 10], 'gamma': [1, 0.1, 0.01], 'kernel': [ 'rbf']}\n",
    "#param_grid = {'C': [0.1, 1, 10, 100]}\n",
    "\n",
    "grid_search = GridSearchCV(clf, param_grid, cv=4, verbose=3)\n",
    "grid_search.fit(X_train_scaled, y_train)\n",
    "\n",
    "best_params = grid_search.best_params_\n",
    "\n",
    "y_pred = grid_search.predict(X_test_scaled)\n",
    "accuracy = accuracy_score(y_test, y_pred)\n",
    "\n",
    "print(f\"Best Parameters: {best_params}\")\n",
    "'''\n",
    "clf.fit(X_train_scaled, y_train)\n",
    "y_pred = clf.predict(X_test_scaled)\n",
    "accuracy = accuracy_score(y_test, y_pred)\n",
    "\n",
    "print(f\"Test Accuracy: {accuracy * 100:.2f}%\")"
   ]
  },
  {
   "cell_type": "markdown",
   "metadata": {},
   "source": [
    "SVM performance is rather mediocre but with more detailed extraction of features and hyperparameter tuning it could perform much better. However training time for SVM scales quadratic with the number of features so it would take quite a long time."
   ]
  },
  {
   "cell_type": "code",
   "execution_count": 28,
   "metadata": {},
   "outputs": [
    {
     "name": "stdout",
     "output_type": "stream",
     "text": [
      "Fitting 5 folds for each of 2 candidates, totalling 10 fits\n",
      "[CV 1/5] END ....................n_neighbors=60;, score=0.411 total time=   0.7s\n",
      "[CV 2/5] END ....................n_neighbors=60;, score=0.404 total time=   0.6s\n",
      "[CV 3/5] END ....................n_neighbors=60;, score=0.388 total time=   0.6s\n",
      "[CV 4/5] END ....................n_neighbors=60;, score=0.401 total time=   0.6s\n",
      "[CV 5/5] END ....................n_neighbors=60;, score=0.405 total time=   0.6s\n",
      "[CV 1/5] END ....................n_neighbors=80;, score=0.406 total time=   0.5s\n",
      "[CV 2/5] END ....................n_neighbors=80;, score=0.401 total time=   0.5s\n",
      "[CV 3/5] END ....................n_neighbors=80;, score=0.379 total time=   0.6s\n",
      "[CV 4/5] END ....................n_neighbors=80;, score=0.398 total time=   0.6s\n",
      "[CV 5/5] END ....................n_neighbors=80;, score=0.402 total time=   0.6s\n",
      "Best Parameters: {'n_neighbors': 60}\n",
      "Test Accuracy: 41.37%\n"
     ]
    }
   ],
   "source": [
    "scaler = StandardScaler()\n",
    "X_train_scaled = scaler.fit_transform(X_train_SVM)\n",
    "X_test_scaled = scaler.transform(X_test_SVM)\n",
    "\n",
    "clf = KNeighborsClassifier()\n",
    "\n",
    "# Parameter grid for KNN\n",
    "param_grid = {'n_neighbors': [60,80]}\n",
    "\n",
    "# Grid search using cross-validation\n",
    "grid_search = GridSearchCV(clf, param_grid, cv=5, verbose=3)\n",
    "grid_search.fit(X_train_scaled, y_train)\n",
    "\n",
    "# Best parameters\n",
    "best_params = grid_search.best_params_\n",
    "\n",
    "# Predictions on test set\n",
    "y_pred = grid_search.predict(X_test_scaled)\n",
    "accuracy = accuracy_score(y_test, y_pred)\n",
    "\n",
    "# Print results\n",
    "print(f\"Best Parameters: {best_params}\")\n",
    "print(f\"Test Accuracy: {accuracy * 100:.2f}%\")"
   ]
  },
  {
   "cell_type": "markdown",
   "metadata": {},
   "source": [
    "KNN performed rather poorly on the given set of features."
   ]
  },
  {
   "cell_type": "markdown",
   "metadata": {},
   "source": [
    "## Neural network approach"
   ]
  },
  {
   "cell_type": "code",
   "execution_count": 10,
   "metadata": {},
   "outputs": [
    {
     "name": "stdout",
     "output_type": "stream",
     "text": [
      "cuda\n"
     ]
    }
   ],
   "source": [
    "import torch\n",
    "import torch.nn as nn\n",
    "from torch.utils.data import DataLoader, TensorDataset\n",
    "import torch.optim as optim\n",
    "import torch.nn.functional as F\n",
    "\n",
    "device = torch.device(\"cuda\" if torch.cuda.is_available() else \"cpu\")\n",
    "\n",
    "if torch.cuda.is_available():\n",
    "    print('cuda')\n",
    "else:\n",
    "    print('no cuda')"
   ]
  },
  {
   "cell_type": "markdown",
   "metadata": {},
   "source": [
    "Here we will construct a class for our CNN."
   ]
  },
  {
   "cell_type": "code",
   "execution_count": 11,
   "metadata": {},
   "outputs": [],
   "source": [
    "class CNN(nn.Module):\n",
    "    def __init__(self, num_classes, input_shape=[3, smallest_height, smallest_width]):\n",
    "        super(CNN, self).__init__()\n",
    "        \n",
    "        self.conv_layers = nn.Sequential(\n",
    "            nn.Conv2d(in_channels=input_shape[0], out_channels=32, kernel_size=7, stride=1, padding=1),\n",
    "            nn.ReLU(),\n",
    "            nn.MaxPool2d(kernel_size=2, stride=2),\n",
    "            nn.Conv2d(in_channels=32, out_channels=64, kernel_size=3, stride=1, padding=1),\n",
    "            nn.ReLU(),\n",
    "            nn.MaxPool2d(kernel_size=2, stride=2),\n",
    "            nn.Conv2d(in_channels=64, out_channels=128, kernel_size=3, stride=1, padding=1),\n",
    "            nn.AvgPool2d(kernel_size=2, stride=2)\n",
    "        )\n",
    "        \n",
    "        # Calculate the input size for fc1 dynamically\n",
    "        self.fc1_input_size = self._calculate_fc1_input_size(input_shape)\n",
    "        print(self.fc1_input_size)\n",
    "        \n",
    "        self.fc1 = nn.Linear(self.fc1_input_size, 512)\n",
    "        self.fc2 = nn.Linear(512, 128)\n",
    "        self.fc3 = nn.Linear(128, num_classes)\n",
    "        \n",
    "    def _calculate_fc1_input_size(self, input_shape):\n",
    "        x = torch.zeros(1, *input_shape)  # Create a dummy input tensor\n",
    "        x = self.conv_layers(x)\n",
    "        \n",
    "        # Calculate the number of features after the convolutional and pooling layers\n",
    "        num_features = x.view(x.size(0), -1).size(1)\n",
    "        \n",
    "        return num_features\n",
    "        \n",
    "    def forward(self, x):\n",
    "        x = self.conv_layers(x)\n",
    "        x = x.view(x.size(0), -1)\n",
    "        \n",
    "        x = F.relu(self.fc1(x))\n",
    "        x = F.relu(self.fc2(x))\n",
    "        x = self.fc3(x)\n",
    "        \n",
    "        return x"
   ]
  },
  {
   "cell_type": "code",
   "execution_count": 49,
   "metadata": {},
   "outputs": [],
   "source": [
    "labels, X_train, X_val, y_train, y_val = load_images(train_folder_path, 0.2, 0, smallest_width, smallest_height)\n",
    "_, X_test, y_test                     = load_images(test_folder_path, 0, 0, smallest_width, smallest_height)\n",
    "\n",
    "X_train, X_valid, X_test = X_train / 255.0, X_val / 255.0, X_test / 255.0\n",
    "\n",
    "y_train = one_hot_encode(y_train,labels)\n",
    "y_val = one_hot_encode(y_val,labels)\n",
    "y_test  = one_hot_encode(y_test,labels)"
   ]
  },
  {
   "cell_type": "code",
   "execution_count": 14,
   "metadata": {},
   "outputs": [
    {
     "data": {
      "text/plain": [
       "<matplotlib.image.AxesImage at 0x2778a1be580>"
      ]
     },
     "execution_count": 14,
     "metadata": {},
     "output_type": "execute_result"
    },
    {
     "data": {
      "image/png": "[encoded data removed]",
      "text/plain": [
       "<Figure size 640x480 with 1 Axes>"
      ]
     },
     "metadata": {},
     "output_type": "display_data"
    }
   ],
   "source": [
    "plt.imshow(X_train[500])"
   ]
  },
  {
   "cell_type": "code",
   "execution_count": 15,
   "metadata": {},
   "outputs": [
    {
     "name": "stdout",
     "output_type": "stream",
     "text": [
      "buildings\n"
     ]
    }
   ],
   "source": [
    "print(labels[np.nonzero(y_train[500])[0][0]])"
   ]
  },
  {
   "cell_type": "markdown",
   "metadata": {},
   "source": [
    "Lets convert our data to torch tensors and create data loaders. We will also initialize our CNN, optimizer will be Adam and loss function - cross entropy."
   ]
  },
  {
   "cell_type": "code",
   "execution_count": 50,
   "metadata": {},
   "outputs": [
    {
     "name": "stdout",
     "output_type": "stream",
     "text": [
      "18432\n"
     ]
    }
   ],
   "source": [
    "X_train_tensor = torch.tensor(X_train.transpose((0, 3, 1, 2)), dtype=torch.float32)\n",
    "y_train_tensor = torch.tensor(y_train, dtype=torch.float32)\n",
    "X_val_tensor = torch.tensor(X_val.transpose((0, 3, 1, 2)), dtype=torch.float32)\n",
    "y_val_tensor = torch.tensor(y_val, dtype=torch.float32)\n",
    "X_test_tensor = torch.tensor(X_test.transpose((0, 3, 1, 2)), dtype=torch.float32)\n",
    "y_test_tensor = torch.tensor(y_test, dtype=torch.float32)\n",
    "\n",
    "train_dataset = TensorDataset(X_train_tensor, y_train_tensor)\n",
    "train_loader = DataLoader(train_dataset, batch_size=64, shuffle=True)\n",
    "val_dataset = TensorDataset(X_val_tensor, y_val_tensor)\n",
    "val_loader = DataLoader(val_dataset, batch_size=64, shuffle=False)\n",
    "\n",
    "model = CNN(num_classes=len(labels)) \n",
    "optimizer = optim.Adam(model.parameters(), lr=0.001)\n",
    "criterion = nn.CrossEntropyLoss()"
   ]
  },
  {
   "cell_type": "code",
   "execution_count": 17,
   "metadata": {},
   "outputs": [
    {
     "data": {
      "text/plain": [
       "torch.Size([11224, 3, 72, 150])"
      ]
     },
     "execution_count": 17,
     "metadata": {},
     "output_type": "execute_result"
    }
   ],
   "source": [
    "X_train_tensor.shape"
   ]
  },
  {
   "cell_type": "markdown",
   "metadata": {},
   "source": [
    "Time for training."
   ]
  },
  {
   "cell_type": "code",
   "execution_count": 18,
   "metadata": {},
   "outputs": [
    {
     "name": "stdout",
     "output_type": "stream",
     "text": [
      "Epoch 1/20, Loss: 1.0630, Validation Accuracy: 43.60%, Time: 183.90s\n",
      "Epoch 2/20, Loss: 0.8431, Validation Accuracy: 36.13%, Time: 178.22s\n",
      "Epoch 3/20, Loss: 0.7115, Validation Accuracy: 34.35%, Time: 174.08s\n",
      "Epoch 4/20, Loss: 0.6362, Validation Accuracy: 51.11%, Time: 170.19s\n",
      "Epoch 5/20, Loss: 0.5431, Validation Accuracy: 57.36%, Time: 165.41s\n",
      "Epoch 6/20, Loss: 0.4655, Validation Accuracy: 56.97%, Time: 166.71s\n",
      "Epoch 7/20, Loss: 0.3864, Validation Accuracy: 52.82%, Time: 171.78s\n",
      "Epoch 8/20, Loss: 0.3065, Validation Accuracy: 62.62%, Time: 177.64s\n",
      "Epoch 9/20, Loss: 0.2417, Validation Accuracy: 51.11%, Time: 177.15s\n",
      "Epoch 10/20, Loss: 0.1924, Validation Accuracy: 62.19%, Time: 175.57s\n",
      "Epoch 11/20, Loss: 0.1338, Validation Accuracy: 65.33%, Time: 171.04s\n",
      "Epoch 12/20, Loss: 0.1169, Validation Accuracy: 54.36%, Time: 170.88s\n",
      "Epoch 13/20, Loss: 0.1120, Validation Accuracy: 65.48%, Time: 171.79s\n",
      "Epoch 14/20, Loss: 0.0975, Validation Accuracy: 65.80%, Time: 173.16s\n",
      "Epoch 15/20, Loss: 0.0622, Validation Accuracy: 62.62%, Time: 171.58s\n",
      "Epoch 16/20, Loss: 0.0501, Validation Accuracy: 68.37%, Time: 170.32s\n",
      "Epoch 17/20, Loss: 0.0822, Validation Accuracy: 53.68%, Time: 210.11s\n",
      "Epoch 18/20, Loss: 0.0928, Validation Accuracy: 61.29%, Time: 223.42s\n",
      "Epoch 19/20, Loss: 0.0472, Validation Accuracy: 68.58%, Time: 223.51s\n",
      "Epoch 20/20, Loss: 0.0560, Validation Accuracy: 59.72%, Time: 214.80s\n"
     ]
    },
    {
     "data": {
      "text/plain": [
       "<All keys matched successfully>"
      ]
     },
     "execution_count": 18,
     "metadata": {},
     "output_type": "execute_result"
    }
   ],
   "source": [
    "train_history = []\n",
    "val_history = []\n",
    "\n",
    "best_val_accuracy = 0.0  \n",
    "best_model_params = None  \n",
    "\n",
    "num_epochs = 20\n",
    "\n",
    "for epoch in range(num_epochs):\n",
    "    start_time = time.time()\n",
    "    \n",
    "    model.train()\n",
    "    total_loss = 0.0\n",
    "    \n",
    "    for inputs, one_hot_labels in train_loader:\n",
    "        labels = torch.argmax(one_hot_labels, dim=1)  \n",
    "        optimizer.zero_grad()\n",
    "        \n",
    "        outputs = model(inputs)\n",
    "        \n",
    "        loss = criterion(outputs, labels)\n",
    "        loss.backward()\n",
    "        optimizer.step()\n",
    "        \n",
    "        total_loss += loss.item() * inputs.size(0)\n",
    "    \n",
    "    # Calculate average training loss\n",
    "    avg_train_loss = total_loss / len(train_loader.dataset)\n",
    "    train_history.append(avg_train_loss)\n",
    "\n",
    "    # Validation loop\n",
    "    model.eval()\n",
    "    total_correct = 0\n",
    "    total_val_loss = 0.0\n",
    "\n",
    "    with torch.no_grad():\n",
    "        for inputs, one_hot_labels in val_loader:\n",
    "            labels = torch.argmax(one_hot_labels, dim=1)  # Convert one-hot encoded labels to class indices\n",
    "            \n",
    "            outputs = model(inputs)\n",
    "            _, predicted = torch.max(outputs, 1)\n",
    "            \n",
    "            total_correct += (predicted == labels).sum().item()\n",
    "\n",
    "            val_loss = criterion(outputs, labels)\n",
    "            total_val_loss += val_loss.item() * inputs.size(0)\n",
    "    \n",
    "    # Calculate validation accuracy\n",
    "    val_accuracy = total_correct / len(val_loader.dataset)\n",
    "    val_history.append(val_accuracy)\n",
    "\n",
    "    avg_val_loss = total_val_loss / len(val_loader.dataset)\n",
    "    \n",
    "    # Save best model parameters\n",
    "    if val_accuracy > best_val_accuracy:\n",
    "        best_val_accuracy = val_accuracy\n",
    "        best_model_params = model.state_dict()\n",
    "\n",
    "    end_time = time.time()\n",
    "    epoch_time = end_time - start_time\n",
    "    \n",
    "    print(f\"Epoch {epoch+1}/{num_epochs}, Loss: {avg_train_loss:.4f}, Validation Accuracy: {val_accuracy*100:.2f}%, Time: {epoch_time:.2f}s\")\n",
    "\n",
    "# Load best model parameters\n",
    "model.load_state_dict(best_model_params)\n"
   ]
  },
  {
   "cell_type": "code",
   "execution_count": 19,
   "metadata": {},
   "outputs": [
    {
     "name": "stdout",
     "output_type": "stream",
     "text": [
      "Test Accuracy: 74.13%\n"
     ]
    }
   ],
   "source": [
    "# Test evaluation\n",
    "test_dataset = TensorDataset(X_test_tensor, y_test_tensor)\n",
    "test_loader = DataLoader(test_dataset, batch_size=64, shuffle=False)\n",
    "\n",
    "model.eval()\n",
    "total_correct = 0\n",
    "\n",
    "with torch.no_grad():\n",
    "    for batch in test_loader:\n",
    "\n",
    "        inputs, one_hot_labels = batch  # Assuming labels are one-hot encoded\n",
    "        labels = torch.argmax(one_hot_labels, dim=1)  # Convert one-hot encoded labels to class indices\n",
    "        \n",
    "        \n",
    "        outputs = model(inputs)\n",
    "        _, predicted = torch.max(outputs, 1)\n",
    "        \n",
    "        total_correct += (predicted == labels).sum().item()\n",
    "\n",
    "# Calculate test accuracy\n",
    "test_accuracy = total_correct / len(test_loader.dataset)\n",
    "print(f\"Test Accuracy: {test_accuracy*100:.2f}%\")"
   ]
  },
  {
   "cell_type": "markdown",
   "metadata": {},
   "source": [
    "Not bad - we succesfully classify 3 out of 4 pictures."
   ]
  },
  {
   "cell_type": "markdown",
   "metadata": {},
   "source": [
    "## Finetuned CNN"
   ]
  },
  {
   "cell_type": "markdown",
   "metadata": {},
   "source": [
    "We will use SqueezeNet - it is lightweight network with relatively small number of parameters and its flexible in case of input size."
   ]
  },
  {
   "cell_type": "code",
   "execution_count": 53,
   "metadata": {},
   "outputs": [],
   "source": [
    "import torchvision.models as models\n",
    "\n",
    "# Load pretrained ResNet-18 model\n",
    "squeeze = models.squeezenet1_0(weights='SqueezeNet1_0_Weights.DEFAULT')#.to(device)"
   ]
  },
  {
   "cell_type": "code",
   "execution_count": 57,
   "metadata": {},
   "outputs": [],
   "source": [
    "num_classes = len(labels)  \n",
    "\n",
    "# Modify final layer\n",
    "#num_features = squeeze.fc.in_features\n",
    "#squeeze.fc = nn.Linear(num_features, num_classes)"
   ]
  },
  {
   "cell_type": "markdown",
   "metadata": {},
   "source": [
    "Lets take a look at its architecture."
   ]
  },
  {
   "cell_type": "code",
   "execution_count": 58,
   "metadata": {},
   "outputs": [
    {
     "data": {
      "text/plain": [
       "SqueezeNet(\n",
       "  (features): Sequential(\n",
       "    (0): Conv2d(3, 96, kernel_size=(7, 7), stride=(2, 2))\n",
       "    (1): ReLU(inplace=True)\n",
       "    (2): MaxPool2d(kernel_size=3, stride=2, padding=0, dilation=1, ceil_mode=True)\n",
       "    (3): Fire(\n",
       "      (squeeze): Conv2d(96, 16, kernel_size=(1, 1), stride=(1, 1))\n",
       "      (squeeze_activation): ReLU(inplace=True)\n",
       "      (expand1x1): Conv2d(16, 64, kernel_size=(1, 1), stride=(1, 1))\n",
       "      (expand1x1_activation): ReLU(inplace=True)\n",
       "      (expand3x3): Conv2d(16, 64, kernel_size=(3, 3), stride=(1, 1), padding=(1, 1))\n",
       "      (expand3x3_activation): ReLU(inplace=True)\n",
       "    )\n",
       "    (4): Fire(\n",
       "      (squeeze): Conv2d(128, 16, kernel_size=(1, 1), stride=(1, 1))\n",
       "      (squeeze_activation): ReLU(inplace=True)\n",
       "      (expand1x1): Conv2d(16, 64, kernel_size=(1, 1), stride=(1, 1))\n",
       "      (expand1x1_activation): ReLU(inplace=True)\n",
       "      (expand3x3): Conv2d(16, 64, kernel_size=(3, 3), stride=(1, 1), padding=(1, 1))\n",
       "      (expand3x3_activation): ReLU(inplace=True)\n",
       "    )\n",
       "    (5): Fire(\n",
       "      (squeeze): Conv2d(128, 32, kernel_size=(1, 1), stride=(1, 1))\n",
       "      (squeeze_activation): ReLU(inplace=True)\n",
       "      (expand1x1): Conv2d(32, 128, kernel_size=(1, 1), stride=(1, 1))\n",
       "      (expand1x1_activation): ReLU(inplace=True)\n",
       "      (expand3x3): Conv2d(32, 128, kernel_size=(3, 3), stride=(1, 1), padding=(1, 1))\n",
       "      (expand3x3_activation): ReLU(inplace=True)\n",
       "    )\n",
       "    (6): MaxPool2d(kernel_size=3, stride=2, padding=0, dilation=1, ceil_mode=True)\n",
       "    (7): Fire(\n",
       "      (squeeze): Conv2d(256, 32, kernel_size=(1, 1), stride=(1, 1))\n",
       "      (squeeze_activation): ReLU(inplace=True)\n",
       "      (expand1x1): Conv2d(32, 128, kernel_size=(1, 1), stride=(1, 1))\n",
       "      (expand1x1_activation): ReLU(inplace=True)\n",
       "      (expand3x3): Conv2d(32, 128, kernel_size=(3, 3), stride=(1, 1), padding=(1, 1))\n",
       "      (expand3x3_activation): ReLU(inplace=True)\n",
       "    )\n",
       "    (8): Fire(\n",
       "      (squeeze): Conv2d(256, 48, kernel_size=(1, 1), stride=(1, 1))\n",
       "      (squeeze_activation): ReLU(inplace=True)\n",
       "      (expand1x1): Conv2d(48, 192, kernel_size=(1, 1), stride=(1, 1))\n",
       "      (expand1x1_activation): ReLU(inplace=True)\n",
       "      (expand3x3): Conv2d(48, 192, kernel_size=(3, 3), stride=(1, 1), padding=(1, 1))\n",
       "      (expand3x3_activation): ReLU(inplace=True)\n",
       "    )\n",
       "    (9): Fire(\n",
       "      (squeeze): Conv2d(384, 48, kernel_size=(1, 1), stride=(1, 1))\n",
       "      (squeeze_activation): ReLU(inplace=True)\n",
       "      (expand1x1): Conv2d(48, 192, kernel_size=(1, 1), stride=(1, 1))\n",
       "      (expand1x1_activation): ReLU(inplace=True)\n",
       "      (expand3x3): Conv2d(48, 192, kernel_size=(3, 3), stride=(1, 1), padding=(1, 1))\n",
       "      (expand3x3_activation): ReLU(inplace=True)\n",
       "    )\n",
       "    (10): Fire(\n",
       "      (squeeze): Conv2d(384, 64, kernel_size=(1, 1), stride=(1, 1))\n",
       "      (squeeze_activation): ReLU(inplace=True)\n",
       "      (expand1x1): Conv2d(64, 256, kernel_size=(1, 1), stride=(1, 1))\n",
       "      (expand1x1_activation): ReLU(inplace=True)\n",
       "      (expand3x3): Conv2d(64, 256, kernel_size=(3, 3), stride=(1, 1), padding=(1, 1))\n",
       "      (expand3x3_activation): ReLU(inplace=True)\n",
       "    )\n",
       "    (11): MaxPool2d(kernel_size=3, stride=2, padding=0, dilation=1, ceil_mode=True)\n",
       "    (12): Fire(\n",
       "      (squeeze): Conv2d(512, 64, kernel_size=(1, 1), stride=(1, 1))\n",
       "      (squeeze_activation): ReLU(inplace=True)\n",
       "      (expand1x1): Conv2d(64, 256, kernel_size=(1, 1), stride=(1, 1))\n",
       "      (expand1x1_activation): ReLU(inplace=True)\n",
       "      (expand3x3): Conv2d(64, 256, kernel_size=(3, 3), stride=(1, 1), padding=(1, 1))\n",
       "      (expand3x3_activation): ReLU(inplace=True)\n",
       "    )\n",
       "  )\n",
       "  (classifier): Sequential(\n",
       "    (0): Dropout(p=0.5, inplace=False)\n",
       "    (1): Conv2d(512, 1000, kernel_size=(1, 1), stride=(1, 1))\n",
       "    (2): ReLU(inplace=True)\n",
       "    (3): AdaptiveAvgPool2d(output_size=(1, 1))\n",
       "  )\n",
       ")"
      ]
     },
     "execution_count": 58,
     "metadata": {},
     "output_type": "execute_result"
    }
   ],
   "source": [
    "squeeze.eval()"
   ]
  },
  {
   "cell_type": "markdown",
   "metadata": {},
   "source": [
    "Freezing the layers to prevent them from updating weights  (transfer learning)."
   ]
  },
  {
   "cell_type": "markdown",
   "metadata": {},
   "source": [
    "We choose cross entropy as our loss and Stochastic Gradient Descent as our optimizer."
   ]
  },
  {
   "cell_type": "code",
   "execution_count": 59,
   "metadata": {},
   "outputs": [],
   "source": [
    "criterion = nn.CrossEntropyLoss()\n",
    "optimizer = optim.SGD(squeeze.parameters(), lr=0.001, momentum=0.9)"
   ]
  },
  {
   "cell_type": "markdown",
   "metadata": {},
   "source": [
    "Now lets train the model."
   ]
  },
  {
   "cell_type": "code",
   "execution_count": 60,
   "metadata": {},
   "outputs": [
    {
     "name": "stdout",
     "output_type": "stream",
     "text": [
      "Epoch 1/10, Loss: 1.0947, Validation Accuracy: 43.60%, Time: 315.63s\n",
      "Epoch 2/10, Loss: 0.5542, Validation Accuracy: 47.32%, Time: 297.16s\n",
      "Epoch 3/10, Loss: 0.4711, Validation Accuracy: 56.22%, Time: 299.15s\n",
      "Epoch 4/10, Loss: 0.4001, Validation Accuracy: 43.64%, Time: 290.14s\n",
      "Epoch 5/10, Loss: 0.3795, Validation Accuracy: 54.40%, Time: 286.98s\n",
      "Epoch 6/10, Loss: 0.3476, Validation Accuracy: 51.29%, Time: 314.86s\n",
      "Epoch 7/10, Loss: 0.3344, Validation Accuracy: 60.65%, Time: 314.07s\n",
      "Epoch 8/10, Loss: 0.3034, Validation Accuracy: 60.15%, Time: 297.32s\n",
      "Epoch 9/10, Loss: 0.2814, Validation Accuracy: 53.40%, Time: 303.84s\n",
      "Epoch 10/10, Loss: 0.2865, Validation Accuracy: 55.83%, Time: 292.07s\n"
     ]
    },
    {
     "data": {
      "text/plain": [
       "<All keys matched successfully>"
      ]
     },
     "execution_count": 60,
     "metadata": {},
     "output_type": "execute_result"
    }
   ],
   "source": [
    "train_res_history = []\n",
    "val_res_history = []\n",
    "\n",
    "best_val_accuracy = 0.0  \n",
    "best_model_params = None  \n",
    "\n",
    "num_epochs = 10\n",
    "\n",
    "for epoch in range(num_epochs):\n",
    "    start_time = time.time()\n",
    "    \n",
    "    squeeze.train()\n",
    "    total_loss = 0.0\n",
    "    \n",
    "    for inputs, one_hot_labels in train_loader:\n",
    "        labels = torch.argmax(one_hot_labels, dim=1)  \n",
    "        optimizer.zero_grad()\n",
    "        \n",
    "        outputs = squeeze(inputs)\n",
    "        \n",
    "        loss = criterion(outputs, labels)\n",
    "        loss.backward()\n",
    "        optimizer.step()\n",
    "        \n",
    "        total_loss += loss.item() * inputs.size(0)\n",
    "    \n",
    "    # Calculate average training loss\n",
    "    avg_train_loss = total_loss / len(train_loader.dataset)\n",
    "    train_res_history.append(avg_train_loss)\n",
    "\n",
    "    # Validation loop\n",
    "    squeeze.eval()\n",
    "    total_correct = 0\n",
    "    total_val_loss = 0.0\n",
    "\n",
    "    with torch.no_grad():\n",
    "        for inputs, one_hot_labels in val_loader:\n",
    "            labels = torch.argmax(one_hot_labels, dim=1)  # Convert one-hot encoded labels to class indices\n",
    "            \n",
    "            outputs = squeeze(inputs)\n",
    "            _, predicted = torch.max(outputs, 1)\n",
    "            \n",
    "            total_correct += (predicted == labels).sum().item()\n",
    "\n",
    "            val_loss = criterion(outputs, labels)\n",
    "            total_val_loss += val_loss.item() * inputs.size(0)\n",
    "    \n",
    "    # Calculate validation accuracy\n",
    "    val_accuracy = total_correct / len(val_loader.dataset)\n",
    "    val_res_history.append(val_accuracy)\n",
    "\n",
    "    avg_val_loss = total_val_loss / len(val_loader.dataset)\n",
    "    \n",
    "    # Save best model parameters\n",
    "    if val_accuracy > best_val_accuracy:\n",
    "        best_val_accuracy = val_accuracy\n",
    "        best_res_params = squeeze.state_dict()\n",
    "\n",
    "    end_time = time.time()\n",
    "    epoch_time = end_time - start_time\n",
    "    \n",
    "    print(f\"Epoch {epoch+1}/{num_epochs}, Loss: {avg_train_loss:.4f}, Validation Accuracy: {val_accuracy*100:.2f}%, Time: {epoch_time:.2f}s\")\n",
    "\n",
    "# Load best model parameters\n",
    "squeeze.load_state_dict(best_res_params)\n"
   ]
  },
  {
   "cell_type": "code",
   "execution_count": 61,
   "metadata": {},
   "outputs": [
    {
     "name": "stdout",
     "output_type": "stream",
     "text": [
      "Test Accuracy: 86.20%\n"
     ]
    }
   ],
   "source": [
    "test_dataset = TensorDataset(X_test_tensor, y_test_tensor)\n",
    "test_loader = DataLoader(test_dataset, batch_size=64, shuffle=False)\n",
    "\n",
    "squeeze.eval()\n",
    "total_correct = 0\n",
    "\n",
    "with torch.no_grad():\n",
    "    for batch in test_loader:\n",
    "\n",
    "        inputs, one_hot_labels = batch  # Assuming labels are one-hot encoded\n",
    "        labels = torch.argmax(one_hot_labels, dim=1)  # Convert one-hot encoded labels to class indices\n",
    "        \n",
    "        \n",
    "        outputs = squeeze(inputs)\n",
    "        _, predicted = torch.max(outputs, 1)\n",
    "        \n",
    "        total_correct += (predicted == labels).sum().item()\n",
    "\n",
    "# Calculate test accuracy\n",
    "test_accuracy = total_correct / len(test_loader.dataset)\n",
    "print(f\"Test Accuracy: {test_accuracy*100:.2f}%\")"
   ]
  },
  {
   "cell_type": "markdown",
   "metadata": {},
   "source": [
    "Fine tuning the SqueezeNet resulted in the best performance by far."
   ]
  }
 ],
 "metadata": {
  "kernelspec": {
   "display_name": "ml",
   "language": "python",
   "name": "python3"
  },
  "language_info": {
   "codemirror_mode": {
    "name": "ipython",
    "version": 3
   },
   "file_extension": ".py",
   "mimetype": "text/x-python",
   "name": "python",
   "nbconvert_exporter": "python",
   "pygments_lexer": "ipython3",
   "version": "3.9.18"
  }
 },
 "nbformat": 4,
 "nbformat_minor": 2
}
