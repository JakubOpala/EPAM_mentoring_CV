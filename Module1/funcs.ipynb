{
 "cells": [
  {
   "cell_type": "code",
   "execution_count": null,
   "metadata": {},
   "outputs": [],
   "source": [
    "target = cv2.imread('/content/drive/MyDrive/epam_data/field1.jpg')\n",
    "hsvt = cv2.cvtColor(target,cv2.COLOR_BGR2HSV)\n",
    "cv2_imshow(target)"
   ]
  },
  {
   "cell_type": "code",
   "execution_count": null,
   "metadata": {},
   "outputs": [],
   "source": [
    "roi = target[550:750,500:700]\n",
    "hsv = cv2.cvtColor(roi,cv2.COLOR_BGR2HSV)\n",
    "cv2_imshow(roi)"
   ]
  },
  {
   "cell_type": "code",
   "execution_count": null,
   "metadata": {},
   "outputs": [],
   "source": [
    "# calculating object histogram\n",
    "roihist = cv2.calcHist([hsv],[0, 1], None, [180, 256], [0, 180, 0, 256] )\n",
    "\n",
    "# normalize histogram and apply backprojection\n",
    "cv2.normalize(roihist,roihist,0,255,cv2.NORM_MINMAX)\n",
    "dst = cv2.calcBackProject([hsvt],[0,1],roihist,[0,180,0,256],1)\n",
    "\n",
    "# Now convolute with circular disc\n",
    "disc = cv2.getStructuringElement(cv2.MORPH_ELLIPSE,(5,5))\n",
    "cv2.filter2D(dst,-1,disc,dst)\n",
    "\n",
    "# threshold and binary AND\n",
    "ret,thresh = cv2.threshold(dst,50,255,0)\n",
    "thresh = cv2.merge((thresh,thresh,thresh))\n",
    "res = cv2.bitwise_and(target,thresh)\n",
    "res = np.vstack((target,thresh,res))\n",
    "cv2_imshow(res)"
   ]
  },
  {
   "cell_type": "code",
   "execution_count": null,
   "metadata": {},
   "outputs": [],
   "source": [
    "img = cv2.imread('/content/drive/MyDrive/epam_data/star.jpg')\n",
    "img_gray = cv2.cvtColor(img,cv2.COLOR_BGR2GRAY)\n",
    "ret,thresh = cv2.threshold(img_gray, 127, 255,0)\n",
    "contours,hierarchy = cv2.findContours(thresh,2,1)\n",
    "cnt = contours[0]\n",
    "hull = cv2.convexHull(cnt,returnPoints = False)\n",
    "defects = cv2.convexityDefects(cnt,hull)"
   ]
  },
  {
   "cell_type": "code",
   "execution_count": null,
   "metadata": {},
   "outputs": [],
   "source": [
    "for i in range(defects.shape[0]-4):\n",
    " s,e,f,d = defects[i,0]\n",
    " start = tuple(cnt[s][0])\n",
    " end = tuple(cnt[e][0])\n",
    " far = tuple(cnt[f][0])\n",
    " cv2.line(img,start,end,[0,255,0],2)\n",
    " cv2.circle(img,far,5,[0,0,255],-1)\n",
    "cv2_imshow(img)"
   ]
  }
 ],
 "metadata": {
  "language_info": {
   "name": "python"
  }
 },
 "nbformat": 4,
 "nbformat_minor": 2
}
